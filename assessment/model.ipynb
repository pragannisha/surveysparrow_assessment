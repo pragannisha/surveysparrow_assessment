{
 "cells": [
  {
   "cell_type": "code",
   "execution_count": 2,
   "id": "35a8d848",
   "metadata": {},
   "outputs": [],
   "source": [
    "# src/model/model_training.py\n",
    "import joblib\n",
    "from sklearn.ensemble import RandomForestClassifier\n",
    "from sklearn.metrics import classification_report\n",
    "from sklearn.model_selection import train_test_split\n",
    "from data_utils import preprocess_data_chunked, load_datasets\n",
    "\n",
    "def train_and_save_model(X, y, model_path='model.pkl'):\n",
    "    X_train, X_test, y_train, y_test = train_test_split(X, y, test_size=0.2, random_state=42)\n",
    "    \n",
    "    model = RandomForestClassifier(n_estimators=100, random_state=42)\n",
    "    model.fit(X_train, y_train)\n",
    "    \n",
    "    y_pred = model.predict(X_test)\n",
    "    print(classification_report(y_test, y_pred))\n",
    "    \n",
    "    joblib.dump(model, model_path)\n",
    "    print(f\"Model saved to {model_path}\")\n",
    "\n",
    "def train_model_on_first_dataset(data_folder):\n",
    "    datasets = load_datasets(data_folder)\n",
    "    if datasets:\n",
    "        df = datasets[0]\n",
    "        X, y = preprocess_data_chunked(df)\n",
    "        train_and_save_model(X, y)\n"
   ]
  },
  {
   "cell_type": "code",
   "execution_count": null,
   "id": "6d5f00e6",
   "metadata": {},
   "outputs": [],
   "source": []
  }
 ],
 "metadata": {
  "kernelspec": {
   "display_name": "Python (pytorch_env)",
   "language": "python",
   "name": "pytorch_env"
  },
  "language_info": {
   "codemirror_mode": {
    "name": "ipython",
    "version": 3
   },
   "file_extension": ".py",
   "mimetype": "text/x-python",
   "name": "python",
   "nbconvert_exporter": "python",
   "pygments_lexer": "ipython3",
   "version": "3.8.19"
  }
 },
 "nbformat": 4,
 "nbformat_minor": 5
}
